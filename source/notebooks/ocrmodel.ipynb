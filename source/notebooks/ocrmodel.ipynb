{
 "cells": [
  {
   "cell_type": "code",
   "execution_count": 25,
   "metadata": {},
   "outputs": [],
   "source": [
    "# <snippet_imports>\n",
    "from azure.cognitiveservices.vision.computervision import ComputerVisionClient\n",
    "from azure.cognitiveservices.vision.computervision.models import OperationStatusCodes\n",
    "from azure.cognitiveservices.vision.computervision.models import VisualFeatureTypes\n",
    "from msrest.authentication import CognitiveServicesCredentials\n",
    "\n",
    "from array import array\n",
    "import os\n",
    "import cv2\n",
    "from PIL import Image\n",
    "import matplotlib.pyplot as plt\n",
    "import sys\n",
    "import time\n",
    "# </snippet_imports>\n",
    "\n",
    "images_folder = '../data/Kaggle Cheque Images/yolo x image/yolo x image/'"
   ]
  },
  {
   "cell_type": "code",
   "execution_count": 40,
   "metadata": {},
   "outputs": [
    {
     "name": "stdout",
     "output_type": "stream",
     "text": [
      "===== Read File - local =====\n"
     ]
    },
    {
     "ename": "AttributeError",
     "evalue": "'numpy.ndarray' object has no attribute 'read'",
     "output_type": "error",
     "traceback": [
      "\u001b[1;31m---------------------------------------------------------------------------\u001b[0m",
      "\u001b[1;31mAttributeError\u001b[0m                            Traceback (most recent call last)",
      "\u001b[1;32mc:\\Users\\ADMIN\\Desktop\\paycheck\\source\\notebooks\\ocrmodel.ipynb Cell 3\u001b[0m in \u001b[0;36m<module>\u001b[1;34m\u001b[0m\n\u001b[0;32m     <a href='vscode-notebook-cell:/c%3A/Users/ADMIN/Desktop/paycheck/source/notebooks/ocrmodel.ipynb#W1sZmlsZQ%3D%3D?line=23'>24</a>\u001b[0m read_image \u001b[39m=\u001b[39m \u001b[39mopen\u001b[39m(read_image_path, \u001b[39m\"\u001b[39m\u001b[39mrb\u001b[39m\u001b[39m\"\u001b[39m)\n\u001b[0;32m     <a href='vscode-notebook-cell:/c%3A/Users/ADMIN/Desktop/paycheck/source/notebooks/ocrmodel.ipynb#W1sZmlsZQ%3D%3D?line=25'>26</a>\u001b[0m \u001b[39m# Call API with image and raw response (allows you to get the operation location)\u001b[39;00m\n\u001b[1;32m---> <a href='vscode-notebook-cell:/c%3A/Users/ADMIN/Desktop/paycheck/source/notebooks/ocrmodel.ipynb#W1sZmlsZQ%3D%3D?line=26'>27</a>\u001b[0m read_response \u001b[39m=\u001b[39m computervision_client\u001b[39m.\u001b[39;49mread_in_stream(bankname, raw\u001b[39m=\u001b[39;49m\u001b[39mTrue\u001b[39;49;00m)\n\u001b[0;32m     <a href='vscode-notebook-cell:/c%3A/Users/ADMIN/Desktop/paycheck/source/notebooks/ocrmodel.ipynb#W1sZmlsZQ%3D%3D?line=27'>28</a>\u001b[0m \u001b[39m# Get the operation location (URL with ID as last appendage)\u001b[39;00m\n\u001b[0;32m     <a href='vscode-notebook-cell:/c%3A/Users/ADMIN/Desktop/paycheck/source/notebooks/ocrmodel.ipynb#W1sZmlsZQ%3D%3D?line=28'>29</a>\u001b[0m read_operation_location \u001b[39m=\u001b[39m read_response\u001b[39m.\u001b[39mheaders[\u001b[39m\"\u001b[39m\u001b[39mOperation-Location\u001b[39m\u001b[39m\"\u001b[39m]\n",
      "File \u001b[1;32mc:\\Users\\ADMIN\\AppData\\Local\\Programs\\Python\\Python39\\lib\\site-packages\\azure\\cognitiveservices\\vision\\computervision\\operations\\_computer_vision_client_operations.py:1706\u001b[0m, in \u001b[0;36mComputerVisionClientOperationsMixin.read_in_stream\u001b[1;34m(self, image, language, pages, model_version, reading_order, custom_headers, raw, callback, **operation_config)\u001b[0m\n\u001b[0;32m   1704\u001b[0m \u001b[39m# Construct and send request\u001b[39;00m\n\u001b[0;32m   1705\u001b[0m request \u001b[39m=\u001b[39m \u001b[39mself\u001b[39m\u001b[39m.\u001b[39m_client\u001b[39m.\u001b[39mpost(url, query_parameters, header_parameters, body_content)\n\u001b[1;32m-> 1706\u001b[0m response \u001b[39m=\u001b[39m \u001b[39mself\u001b[39m\u001b[39m.\u001b[39m_client\u001b[39m.\u001b[39msend(request, stream\u001b[39m=\u001b[39m\u001b[39mFalse\u001b[39;00m, \u001b[39m*\u001b[39m\u001b[39m*\u001b[39moperation_config)\n\u001b[0;32m   1708\u001b[0m \u001b[39mif\u001b[39;00m response\u001b[39m.\u001b[39mstatus_code \u001b[39mnot\u001b[39;00m \u001b[39min\u001b[39;00m [\u001b[39m202\u001b[39m]:\n\u001b[0;32m   1709\u001b[0m     \u001b[39mraise\u001b[39;00m models\u001b[39m.\u001b[39mComputerVisionOcrErrorException(\u001b[39mself\u001b[39m\u001b[39m.\u001b[39m_deserialize, response)\n",
      "File \u001b[1;32mc:\\Users\\ADMIN\\AppData\\Local\\Programs\\Python\\Python39\\lib\\site-packages\\msrest\\service_client.py:336\u001b[0m, in \u001b[0;36mServiceClient.send\u001b[1;34m(self, request, headers, content, **kwargs)\u001b[0m\n\u001b[0;32m    334\u001b[0m kwargs\u001b[39m.\u001b[39msetdefault(\u001b[39m'\u001b[39m\u001b[39mstream\u001b[39m\u001b[39m'\u001b[39m, \u001b[39mTrue\u001b[39;00m)\n\u001b[0;32m    335\u001b[0m \u001b[39mtry\u001b[39;00m:\n\u001b[1;32m--> 336\u001b[0m     pipeline_response \u001b[39m=\u001b[39m \u001b[39mself\u001b[39m\u001b[39m.\u001b[39mconfig\u001b[39m.\u001b[39mpipeline\u001b[39m.\u001b[39mrun(request, \u001b[39m*\u001b[39m\u001b[39m*\u001b[39mkwargs)\n\u001b[0;32m    337\u001b[0m     \u001b[39m# There is too much thing that expects this method to return a \"requests.Response\"\u001b[39;00m\n\u001b[0;32m    338\u001b[0m     \u001b[39m# to break it in a compatible release.\u001b[39;00m\n\u001b[0;32m    339\u001b[0m     \u001b[39m# Also, to be pragmatic in the \"sync\" world \"requests\" rules anyway.\u001b[39;00m\n\u001b[0;32m    340\u001b[0m     \u001b[39m# However, attach the Universal HTTP response\u001b[39;00m\n\u001b[0;32m    341\u001b[0m     \u001b[39m# to get the streaming generator.\u001b[39;00m\n\u001b[0;32m    342\u001b[0m     response \u001b[39m=\u001b[39m pipeline_response\u001b[39m.\u001b[39mhttp_response\u001b[39m.\u001b[39minternal_response\n",
      "File \u001b[1;32mc:\\Users\\ADMIN\\AppData\\Local\\Programs\\Python\\Python39\\lib\\site-packages\\msrest\\pipeline\\__init__.py:197\u001b[0m, in \u001b[0;36mPipeline.run\u001b[1;34m(self, request, **kwargs)\u001b[0m\n\u001b[0;32m    195\u001b[0m pipeline_request \u001b[39m=\u001b[39m Request(request, context)  \u001b[39m# type: Request[HTTPRequestType]\u001b[39;00m\n\u001b[0;32m    196\u001b[0m first_node \u001b[39m=\u001b[39m \u001b[39mself\u001b[39m\u001b[39m.\u001b[39m_impl_policies[\u001b[39m0\u001b[39m] \u001b[39mif\u001b[39;00m \u001b[39mself\u001b[39m\u001b[39m.\u001b[39m_impl_policies \u001b[39melse\u001b[39;00m \u001b[39mself\u001b[39m\u001b[39m.\u001b[39m_sender\n\u001b[1;32m--> 197\u001b[0m \u001b[39mreturn\u001b[39;00m first_node\u001b[39m.\u001b[39msend(pipeline_request, \u001b[39m*\u001b[39m\u001b[39m*\u001b[39mkwargs)\n",
      "File \u001b[1;32mc:\\Users\\ADMIN\\AppData\\Local\\Programs\\Python\\Python39\\lib\\site-packages\\msrest\\pipeline\\__init__.py:150\u001b[0m, in \u001b[0;36m_SansIOHTTPPolicyRunner.send\u001b[1;34m(self, request, **kwargs)\u001b[0m\n\u001b[0;32m    148\u001b[0m \u001b[39mself\u001b[39m\u001b[39m.\u001b[39m_policy\u001b[39m.\u001b[39mon_request(request, \u001b[39m*\u001b[39m\u001b[39m*\u001b[39mkwargs)\n\u001b[0;32m    149\u001b[0m \u001b[39mtry\u001b[39;00m:\n\u001b[1;32m--> 150\u001b[0m     response \u001b[39m=\u001b[39m \u001b[39mself\u001b[39m\u001b[39m.\u001b[39mnext\u001b[39m.\u001b[39msend(request, \u001b[39m*\u001b[39m\u001b[39m*\u001b[39mkwargs)\n\u001b[0;32m    151\u001b[0m \u001b[39mexcept\u001b[39;00m \u001b[39mException\u001b[39;00m:\n\u001b[0;32m    152\u001b[0m     \u001b[39mif\u001b[39;00m \u001b[39mnot\u001b[39;00m \u001b[39mself\u001b[39m\u001b[39m.\u001b[39m_policy\u001b[39m.\u001b[39mon_exception(request, \u001b[39m*\u001b[39m\u001b[39m*\u001b[39mkwargs):\n",
      "File \u001b[1;32mc:\\Users\\ADMIN\\AppData\\Local\\Programs\\Python\\Python39\\lib\\site-packages\\msrest\\pipeline\\requests.py:72\u001b[0m, in \u001b[0;36mRequestsCredentialsPolicy.send\u001b[1;34m(self, request, **kwargs)\u001b[0m\n\u001b[0;32m     70\u001b[0m \u001b[39mtry\u001b[39;00m:\n\u001b[0;32m     71\u001b[0m     \u001b[39mtry\u001b[39;00m:\n\u001b[1;32m---> 72\u001b[0m         \u001b[39mreturn\u001b[39;00m \u001b[39mself\u001b[39m\u001b[39m.\u001b[39mnext\u001b[39m.\u001b[39msend(request, \u001b[39m*\u001b[39m\u001b[39m*\u001b[39mkwargs)\n\u001b[0;32m     73\u001b[0m     \u001b[39mexcept\u001b[39;00m (oauth2\u001b[39m.\u001b[39mrfc6749\u001b[39m.\u001b[39merrors\u001b[39m.\u001b[39mInvalidGrantError,\n\u001b[0;32m     74\u001b[0m             oauth2\u001b[39m.\u001b[39mrfc6749\u001b[39m.\u001b[39merrors\u001b[39m.\u001b[39mTokenExpiredError) \u001b[39mas\u001b[39;00m err:\n\u001b[0;32m     75\u001b[0m         error \u001b[39m=\u001b[39m \u001b[39m\"\u001b[39m\u001b[39mToken expired or is invalid. Attempting to refresh.\u001b[39m\u001b[39m\"\u001b[39m\n",
      "File \u001b[1;32mc:\\Users\\ADMIN\\AppData\\Local\\Programs\\Python\\Python39\\lib\\site-packages\\msrest\\pipeline\\requests.py:137\u001b[0m, in \u001b[0;36mRequestsPatchSession.send\u001b[1;34m(self, request, **kwargs)\u001b[0m\n\u001b[0;32m    134\u001b[0m         session\u001b[39m.\u001b[39madapters[protocol]\u001b[39m.\u001b[39mmax_retries \u001b[39m=\u001b[39m max_retries\n\u001b[0;32m    136\u001b[0m \u001b[39mtry\u001b[39;00m:\n\u001b[1;32m--> 137\u001b[0m     \u001b[39mreturn\u001b[39;00m \u001b[39mself\u001b[39m\u001b[39m.\u001b[39mnext\u001b[39m.\u001b[39msend(request, \u001b[39m*\u001b[39m\u001b[39m*\u001b[39mkwargs)\n\u001b[0;32m    138\u001b[0m \u001b[39mfinally\u001b[39;00m:\n\u001b[0;32m    139\u001b[0m     \u001b[39mif\u001b[39;00m old_max_redirects:\n",
      "File \u001b[1;32mc:\\Users\\ADMIN\\AppData\\Local\\Programs\\Python\\Python39\\lib\\site-packages\\msrest\\pipeline\\__init__.py:150\u001b[0m, in \u001b[0;36m_SansIOHTTPPolicyRunner.send\u001b[1;34m(self, request, **kwargs)\u001b[0m\n\u001b[0;32m    148\u001b[0m \u001b[39mself\u001b[39m\u001b[39m.\u001b[39m_policy\u001b[39m.\u001b[39mon_request(request, \u001b[39m*\u001b[39m\u001b[39m*\u001b[39mkwargs)\n\u001b[0;32m    149\u001b[0m \u001b[39mtry\u001b[39;00m:\n\u001b[1;32m--> 150\u001b[0m     response \u001b[39m=\u001b[39m \u001b[39mself\u001b[39m\u001b[39m.\u001b[39mnext\u001b[39m.\u001b[39msend(request, \u001b[39m*\u001b[39m\u001b[39m*\u001b[39mkwargs)\n\u001b[0;32m    151\u001b[0m \u001b[39mexcept\u001b[39;00m \u001b[39mException\u001b[39;00m:\n\u001b[0;32m    152\u001b[0m     \u001b[39mif\u001b[39;00m \u001b[39mnot\u001b[39;00m \u001b[39mself\u001b[39m\u001b[39m.\u001b[39m_policy\u001b[39m.\u001b[39mon_exception(request, \u001b[39m*\u001b[39m\u001b[39m*\u001b[39mkwargs):\n",
      "File \u001b[1;32mc:\\Users\\ADMIN\\AppData\\Local\\Programs\\Python\\Python39\\lib\\site-packages\\msrest\\pipeline\\requests.py:193\u001b[0m, in \u001b[0;36mPipelineRequestsHTTPSender.send\u001b[1;34m(self, request, **kwargs)\u001b[0m\n\u001b[0;32m    188\u001b[0m \u001b[39mif\u001b[39;00m request\u001b[39m.\u001b[39mcontext\u001b[39m.\u001b[39msession \u001b[39mis\u001b[39;00m \u001b[39mnot\u001b[39;00m \u001b[39mself\u001b[39m\u001b[39m.\u001b[39mdriver\u001b[39m.\u001b[39msession:\n\u001b[0;32m    189\u001b[0m     kwargs[\u001b[39m'\u001b[39m\u001b[39msession\u001b[39m\u001b[39m'\u001b[39m] \u001b[39m=\u001b[39m request\u001b[39m.\u001b[39mcontext\u001b[39m.\u001b[39msession\n\u001b[0;32m    191\u001b[0m \u001b[39mreturn\u001b[39;00m Response(\n\u001b[0;32m    192\u001b[0m     request,\n\u001b[1;32m--> 193\u001b[0m     \u001b[39mself\u001b[39m\u001b[39m.\u001b[39mdriver\u001b[39m.\u001b[39msend(request\u001b[39m.\u001b[39mhttp_request, \u001b[39m*\u001b[39m\u001b[39m*\u001b[39mkwargs)\n\u001b[0;32m    194\u001b[0m )\n",
      "File \u001b[1;32mc:\\Users\\ADMIN\\AppData\\Local\\Programs\\Python\\Python39\\lib\\site-packages\\msrest\\universal_http\\requests.py:333\u001b[0m, in \u001b[0;36mRequestsHTTPSender.send\u001b[1;34m(self, request, **kwargs)\u001b[0m\n\u001b[0;32m    314\u001b[0m \u001b[39m\"\"\"Send request object according to configuration.\u001b[39;00m\n\u001b[0;32m    315\u001b[0m \n\u001b[0;32m    316\u001b[0m \u001b[39mAvailable kwargs:\u001b[39;00m\n\u001b[1;32m   (...)\u001b[0m\n\u001b[0;32m    330\u001b[0m \u001b[39m:param ClientRequest request: The request object to be sent.\u001b[39;00m\n\u001b[0;32m    331\u001b[0m \u001b[39m\"\"\"\u001b[39;00m\n\u001b[0;32m    332\u001b[0m requests_kwargs \u001b[39m=\u001b[39m \u001b[39mself\u001b[39m\u001b[39m.\u001b[39m_configure_send(request, \u001b[39m*\u001b[39m\u001b[39m*\u001b[39mkwargs)\n\u001b[1;32m--> 333\u001b[0m \u001b[39mreturn\u001b[39;00m \u001b[39msuper\u001b[39m(RequestsHTTPSender, \u001b[39mself\u001b[39m)\u001b[39m.\u001b[39msend(request, \u001b[39m*\u001b[39m\u001b[39m*\u001b[39mrequests_kwargs)\n",
      "File \u001b[1;32mc:\\Users\\ADMIN\\AppData\\Local\\Programs\\Python\\Python39\\lib\\site-packages\\msrest\\universal_http\\requests.py:139\u001b[0m, in \u001b[0;36mBasicRequestsHTTPSender.send\u001b[1;34m(self, request, **kwargs)\u001b[0m\n\u001b[0;32m    137\u001b[0m session \u001b[39m=\u001b[39m kwargs\u001b[39m.\u001b[39mpop(\u001b[39m'\u001b[39m\u001b[39msession\u001b[39m\u001b[39m'\u001b[39m, \u001b[39mself\u001b[39m\u001b[39m.\u001b[39msession)\n\u001b[0;32m    138\u001b[0m \u001b[39mtry\u001b[39;00m:\n\u001b[1;32m--> 139\u001b[0m     response \u001b[39m=\u001b[39m session\u001b[39m.\u001b[39mrequest(\n\u001b[0;32m    140\u001b[0m         request\u001b[39m.\u001b[39mmethod,\n\u001b[0;32m    141\u001b[0m         request\u001b[39m.\u001b[39murl,\n\u001b[0;32m    142\u001b[0m         \u001b[39m*\u001b[39m\u001b[39m*\u001b[39mkwargs)\n\u001b[0;32m    143\u001b[0m \u001b[39mexcept\u001b[39;00m requests\u001b[39m.\u001b[39mRequestException \u001b[39mas\u001b[39;00m err:\n\u001b[0;32m    144\u001b[0m     msg \u001b[39m=\u001b[39m \u001b[39m\"\u001b[39m\u001b[39mError occurred in request.\u001b[39m\u001b[39m\"\u001b[39m\n",
      "File \u001b[1;32mc:\\Users\\ADMIN\\AppData\\Local\\Programs\\Python\\Python39\\lib\\site-packages\\requests\\sessions.py:529\u001b[0m, in \u001b[0;36mSession.request\u001b[1;34m(self, method, url, params, data, headers, cookies, files, auth, timeout, allow_redirects, proxies, hooks, stream, verify, cert, json)\u001b[0m\n\u001b[0;32m    524\u001b[0m send_kwargs \u001b[39m=\u001b[39m {\n\u001b[0;32m    525\u001b[0m     \u001b[39m'\u001b[39m\u001b[39mtimeout\u001b[39m\u001b[39m'\u001b[39m: timeout,\n\u001b[0;32m    526\u001b[0m     \u001b[39m'\u001b[39m\u001b[39mallow_redirects\u001b[39m\u001b[39m'\u001b[39m: allow_redirects,\n\u001b[0;32m    527\u001b[0m }\n\u001b[0;32m    528\u001b[0m send_kwargs\u001b[39m.\u001b[39mupdate(settings)\n\u001b[1;32m--> 529\u001b[0m resp \u001b[39m=\u001b[39m \u001b[39mself\u001b[39m\u001b[39m.\u001b[39msend(prep, \u001b[39m*\u001b[39m\u001b[39m*\u001b[39msend_kwargs)\n\u001b[0;32m    531\u001b[0m \u001b[39mreturn\u001b[39;00m resp\n",
      "File \u001b[1;32mc:\\Users\\ADMIN\\AppData\\Local\\Programs\\Python\\Python39\\lib\\site-packages\\requests\\sessions.py:645\u001b[0m, in \u001b[0;36mSession.send\u001b[1;34m(self, request, **kwargs)\u001b[0m\n\u001b[0;32m    642\u001b[0m start \u001b[39m=\u001b[39m preferred_clock()\n\u001b[0;32m    644\u001b[0m \u001b[39m# Send the request\u001b[39;00m\n\u001b[1;32m--> 645\u001b[0m r \u001b[39m=\u001b[39m adapter\u001b[39m.\u001b[39msend(request, \u001b[39m*\u001b[39m\u001b[39m*\u001b[39mkwargs)\n\u001b[0;32m    647\u001b[0m \u001b[39m# Total elapsed time of the request (approximately)\u001b[39;00m\n\u001b[0;32m    648\u001b[0m elapsed \u001b[39m=\u001b[39m preferred_clock() \u001b[39m-\u001b[39m start\n",
      "File \u001b[1;32mc:\\Users\\ADMIN\\AppData\\Local\\Programs\\Python\\Python39\\lib\\site-packages\\requests\\adapters.py:472\u001b[0m, in \u001b[0;36mHTTPAdapter.send\u001b[1;34m(self, request, stream, timeout, verify, cert, proxies)\u001b[0m\n\u001b[0;32m    468\u001b[0m     low_conn\u001b[39m.\u001b[39mputheader(header, value)\n\u001b[0;32m    470\u001b[0m low_conn\u001b[39m.\u001b[39mendheaders()\n\u001b[1;32m--> 472\u001b[0m \u001b[39mfor\u001b[39;00m i \u001b[39min\u001b[39;00m request\u001b[39m.\u001b[39mbody:\n\u001b[0;32m    473\u001b[0m     low_conn\u001b[39m.\u001b[39msend(\u001b[39mhex\u001b[39m(\u001b[39mlen\u001b[39m(i))[\u001b[39m2\u001b[39m:]\u001b[39m.\u001b[39mencode(\u001b[39m'\u001b[39m\u001b[39mutf-8\u001b[39m\u001b[39m'\u001b[39m))\n\u001b[0;32m    474\u001b[0m     low_conn\u001b[39m.\u001b[39msend(\u001b[39mb\u001b[39m\u001b[39m'\u001b[39m\u001b[39m\\r\u001b[39;00m\u001b[39m\\n\u001b[39;00m\u001b[39m'\u001b[39m)\n",
      "File \u001b[1;32mc:\\Users\\ADMIN\\AppData\\Local\\Programs\\Python\\Python39\\lib\\site-packages\\msrest\\service_client.py:137\u001b[0m, in \u001b[0;36m_ServiceClientCore.stream_upload\u001b[1;34m(self, data, callback)\u001b[0m\n\u001b[0;32m    131\u001b[0m \u001b[39m\"\"\"Generator for streaming request body data.\u001b[39;00m\n\u001b[0;32m    132\u001b[0m \n\u001b[0;32m    133\u001b[0m \u001b[39m:param data: A file-like object to be streamed.\u001b[39;00m\n\u001b[0;32m    134\u001b[0m \u001b[39m:param callback: Custom callback for monitoring progress.\u001b[39;00m\n\u001b[0;32m    135\u001b[0m \u001b[39m\"\"\"\u001b[39;00m\n\u001b[0;32m    136\u001b[0m \u001b[39mwhile\u001b[39;00m \u001b[39mTrue\u001b[39;00m:\n\u001b[1;32m--> 137\u001b[0m     chunk \u001b[39m=\u001b[39m data\u001b[39m.\u001b[39;49mread(\u001b[39mself\u001b[39m\u001b[39m.\u001b[39mconfig\u001b[39m.\u001b[39mconnection\u001b[39m.\u001b[39mdata_block_size)\n\u001b[0;32m    138\u001b[0m     \u001b[39mif\u001b[39;00m \u001b[39mnot\u001b[39;00m chunk:\n\u001b[0;32m    139\u001b[0m         \u001b[39mbreak\u001b[39;00m\n",
      "\u001b[1;31mAttributeError\u001b[0m: 'numpy.ndarray' object has no attribute 'read'"
     ]
    }
   ],
   "source": [
    "'''\n",
    "Authenticate\n",
    "Authenticates your credentials and creates a client.\n",
    "'''\n",
    "# <snippet_vars>\n",
    "subscription_key = \"ba19a4fe605643f2bdaea8872305424a\"\n",
    "endpoint = \"https://paycheck-ocr.cognitiveservices.azure.com/\"\n",
    "# </snippet_vars>\n",
    "# </snippet_imports_and_vars>\n",
    "\n",
    "# <snippet_client>\n",
    "computervision_client = ComputerVisionClient(endpoint, CognitiveServicesCredentials(subscription_key))\n",
    "# </snippet_client>\n",
    "'''\n",
    "END - Authenticate\n",
    "'''\n",
    "\n",
    "print(\"===== Read File - local =====\")\n",
    "# Get image path\n",
    "\n",
    "# read_image_path = os.path.join (images_folder, \"1.jpg\")\n",
    "read_image_path = os.path.join ('./test-img.jpg')\n",
    "# Open the image\n",
    "read_image = open(read_image_path, \"rb\")\n",
    "\n",
    "# Call API with image and raw response (allows you to get the operation location)\n",
    "read_response = computervision_client.read_in_stream(read_image, raw=True)\n",
    "# Get the operation location (URL with ID as last appendage)\n",
    "read_operation_location = read_response.headers[\"Operation-Location\"]\n",
    "# Take the ID off and use to get results\n",
    "operation_id = read_operation_location.split(\"/\")[-1]\n",
    "\n",
    "# Call the \"GET\" API and wait for the retrieval of the results\n",
    "while True:\n",
    "    read_result = computervision_client.get_read_result(operation_id)\n",
    "    if read_result.status.lower () not in ['notstarted', 'running']:\n",
    "        break\n",
    "    print ('Waiting for result...')\n",
    "    time.sleep(10)\n",
    "\n",
    "# Print results, line by line\n",
    "if read_result.status == OperationStatusCodes.succeeded:\n",
    "    for text_result in read_result.analyze_result.read_results:\n",
    "        for line in text_result.lines:\n",
    "            print(line.text)\n",
    "            print(line.bounding_box)\n",
    "print()\n",
    "'''\n",
    "END - Read File - local\n",
    "'''\n",
    "\n",
    "print(\"End of Computer Vision quickstart.\")"
   ]
  },
  {
   "cell_type": "code",
   "execution_count": null,
   "metadata": {},
   "outputs": [],
   "source": []
  }
 ],
 "metadata": {
  "kernelspec": {
   "display_name": "Python 3.9.4 64-bit",
   "language": "python",
   "name": "python3"
  },
  "language_info": {
   "codemirror_mode": {
    "name": "ipython",
    "version": 3
   },
   "file_extension": ".py",
   "mimetype": "text/x-python",
   "name": "python",
   "nbconvert_exporter": "python",
   "pygments_lexer": "ipython3",
   "version": "3.9.4"
  },
  "orig_nbformat": 4,
  "vscode": {
   "interpreter": {
    "hash": "c081257499a92776a7ff5343ee4d85420a7950a6ae97b0cb2aee7a7ddd41b7f2"
   }
  }
 },
 "nbformat": 4,
 "nbformat_minor": 2
}
